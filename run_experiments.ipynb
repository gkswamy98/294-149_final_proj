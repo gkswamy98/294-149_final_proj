{
 "cells": [
  {
   "cell_type": "code",
   "execution_count": null,
   "metadata": {
    "collapsed": false
   },
   "outputs": [],
   "source": [
    "import os\n",
    "\n",
    "import numpy as np\n",
    "import tensorflow as tf\n",
    "\n",
    "from batcher import Batcher\n",
    "from fc import FullyConnected\n",
    "from ae import AutoEncoder, VAE\n",
    "from conv import Convolutional"
   ]
  },
  {
   "cell_type": "code",
   "execution_count": null,
   "metadata": {
    "collapsed": false
   },
   "outputs": [],
   "source": [
    "models = [(FullyConnected, {'batch_size':64, 'learning_rate':1e-3, 'num_hid':0}),\n",
    "          (FullyConnected, {'batch_size':64, 'learning_rate':1e-3, 'num_hid':2}),\n",
    "          (Convolutional, {'batch_size':64, 'learning_rate':1e-3, 'num_conv':0}),\n",
    "          (Convolutional, {'batch_size':64, 'learning_rate':1e-3, 'num_conv':3}),\n",
    "          (AutoEncoder, {'batch_size':64, 'learning_rate':1e-3, 'num_hid':2}),\n",
    "          (VAE, {'batch_size':64, 'learning_rate':1e-3, 'num_hid':2})]\n",
    "\n",
    "filters = [('one', [1]), ('two', [2]), ('three', [3]), ('four', [4]), ('five', [5]), ('six', [6]), ('seven', [7]),\n",
    "           ('eight', [8]), ('nine', [9]), ('evens', [0, 2, 4, 6, 8]), ('odds', [1, 3, 5, 7, 9])]\n",
    "\n",
    "save_dir = 'logit_output'"
   ]
  },
  {
   "cell_type": "code",
   "execution_count": null,
   "metadata": {
    "collapsed": false
   },
   "outputs": [],
   "source": [
    "batcher = Batcher('MNIST_data')"
   ]
  },
  {
   "cell_type": "code",
   "execution_count": null,
   "metadata": {
    "collapsed": false
   },
   "outputs": [],
   "source": [
    "def run_single_experiment(model_class, batcher, params, epochs, to_filter):\n",
    "    tf.reset_default_graph()\n",
    "    config = tf.ConfigProto()\n",
    "    config.gpu_options.allow_growth = True\n",
    "    with tf.Session(config=config) as sess:\n",
    "        model = model_class(sess, batcher, params)\n",
    "        model.initialize_variables()\n",
    "        model.train(epochs, to_filter)\n",
    "        logits = model.predict()\n",
    "    return logits"
   ]
  },
  {
   "cell_type": "code",
   "execution_count": null,
   "metadata": {
    "collapsed": false
   },
   "outputs": [],
   "source": [
    "for experiment in range(5):\n",
    "    for filter_name, filter_list in filters:\n",
    "        for model_class, params in models:\n",
    "            logits = run_single_experiment(model_class, batcher, params, 10, filter_list)\n",
    "            model_name = model_class.__name__\n",
    "            if model_name == 'FullyConnected':\n",
    "                model_name = model_name + str(params['num_hid'])\n",
    "            elif model_name == 'Convolutional':\n",
    "                model_name = model_name + str(params['num_conv'])\n",
    "            save_name = '_'.join([model_name, filter_name, str(experiment)])\n",
    "            np.save(os.path.join(save_dir, save_name), logits)"
   ]
  },
  {
   "cell_type": "code",
   "execution_count": null,
   "metadata": {
    "collapsed": false
   },
   "outputs": [],
   "source": [
    "np.save(os.path.join(save_dir, 'test_images'), batcher.test_img)\n",
    "np.save(os.path.join(save_dir, 'test_labels'), batcher.test_lbl)"
   ]
  }
 ],
 "metadata": {
  "kernelspec": {
   "display_name": "Python 3",
   "language": "python",
   "name": "python3"
  },
  "language_info": {
   "codemirror_mode": {
    "name": "ipython",
    "version": 3
   },
   "file_extension": ".py",
   "mimetype": "text/x-python",
   "name": "python",
   "nbconvert_exporter": "python",
   "pygments_lexer": "ipython3",
   "version": "3.5.2"
  }
 },
 "nbformat": 4,
 "nbformat_minor": 2
}
